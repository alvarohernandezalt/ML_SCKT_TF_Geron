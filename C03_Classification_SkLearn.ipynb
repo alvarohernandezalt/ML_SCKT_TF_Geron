{
  "nbformat": 4,
  "nbformat_minor": 0,
  "metadata": {
    "colab": {
      "provenance": []
    },
    "kernelspec": {
      "name": "python3",
      "display_name": "Python 3"
    },
    "language_info": {
      "name": "python"
    }
  },
  "cells": [
    {
      "cell_type": "markdown",
      "source": [
        "## Classification.\n",
        "\n",
        "In this chapter we will look at different classification systems."
      ],
      "metadata": {
        "id": "w7qglCsVftGG"
      }
    },
    {
      "cell_type": "markdown",
      "source": [
        "### MNIST\n",
        "\n",
        "MNIST dataset: is a set of 70,000 small images of digits handwritten by high school students and employees of the US Census Bureau. Each image is labeled with the digit it represents."
      ],
      "metadata": {
        "id": "AbwuCdawgADv"
      }
    },
    {
      "cell_type": "code",
      "execution_count": 2,
      "metadata": {
        "id": "iXhGXub2fRQj"
      },
      "outputs": [],
      "source": [
        "from sklearn.datasets import fetch_openml\n",
        "\n",
        "minst = fetch_openml('mnist_784', as_frame=False, parser='auto')"
      ]
    },
    {
      "cell_type": "code",
      "source": [],
      "metadata": {
        "id": "K6nT9lKcgk9X"
      },
      "execution_count": null,
      "outputs": []
    }
  ]
}