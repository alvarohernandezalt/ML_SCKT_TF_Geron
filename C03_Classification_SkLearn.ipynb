{
  "nbformat": 4,
  "nbformat_minor": 0,
  "metadata": {
    "colab": {
      "provenance": []
    },
    "kernelspec": {
      "name": "python3",
      "display_name": "Python 3"
    },
    "language_info": {
      "name": "python"
    }
  },
  "cells": [
    {
      "cell_type": "markdown",
      "source": [
        "## Classification.\n",
        "\n",
        "In this chapter we will look at different classification systems."
      ],
      "metadata": {
        "id": "w7qglCsVftGG"
      }
    },
    {
      "cell_type": "markdown",
      "source": [
        "### MNIST\n",
        "\n",
        "MNIST dataset: is a set of 70,000 small images of digits handwritten by high school students and employees of the US Census Bureau. Each image is labeled with the digit it represents."
      ],
      "metadata": {
        "id": "AbwuCdawgADv"
      }
    },
    {
      "cell_type": "code",
      "execution_count": 4,
      "metadata": {
        "id": "iXhGXub2fRQj"
      },
      "outputs": [],
      "source": [
        "from sklearn.datasets import fetch_openml\n",
        "\n",
        "mnist = fetch_openml('mnist_784', as_frame=False, parser='auto')"
      ]
    },
    {
      "cell_type": "markdown",
      "source": [
        "`sklearn.datasets` package contains mostly three types of functions:\n",
        "* fetch_* - to download real-life datasets\n",
        "* load_* - load small toy datasets bundled with Scikit_learn\n",
        "* make_* - functions to generate fake datesets, useful for tests\n",
        "\n",
        "👁️ fetch_* returns the inputs as pandas dataframes, as mnist contains images, in this case we put as_frame=False."
      ],
      "metadata": {
        "id": "E55ocGqLho7K"
      }
    },
    {
      "cell_type": "code",
      "source": [
        "X, y = mnist.data, mnist.target\n"
      ],
      "metadata": {
        "id": "K6nT9lKcgk9X"
      },
      "execution_count": 5,
      "outputs": []
    },
    {
      "cell_type": "code",
      "source": [
        "X"
      ],
      "metadata": {
        "colab": {
          "base_uri": "https://localhost:8080/"
        },
        "id": "2WJGVY1Qi5Hn",
        "outputId": "d7c7c375-fd71-4a30-d164-edfe38db2fef"
      },
      "execution_count": 6,
      "outputs": [
        {
          "output_type": "execute_result",
          "data": {
            "text/plain": [
              "array([[0, 0, 0, ..., 0, 0, 0],\n",
              "       [0, 0, 0, ..., 0, 0, 0],\n",
              "       [0, 0, 0, ..., 0, 0, 0],\n",
              "       ...,\n",
              "       [0, 0, 0, ..., 0, 0, 0],\n",
              "       [0, 0, 0, ..., 0, 0, 0],\n",
              "       [0, 0, 0, ..., 0, 0, 0]])"
            ]
          },
          "metadata": {},
          "execution_count": 6
        }
      ]
    },
    {
      "cell_type": "code",
      "source": [
        "X.shape"
      ],
      "metadata": {
        "colab": {
          "base_uri": "https://localhost:8080/"
        },
        "id": "AjmCIf2cjAad",
        "outputId": "bca55555-bd58-4c99-e119-eb76f4be8639"
      },
      "execution_count": 7,
      "outputs": [
        {
          "output_type": "execute_result",
          "data": {
            "text/plain": [
              "(70000, 784)"
            ]
          },
          "metadata": {},
          "execution_count": 7
        }
      ]
    },
    {
      "cell_type": "code",
      "source": [
        "y"
      ],
      "metadata": {
        "id": "zHoBa_f1jCL0",
        "outputId": "2fe8d941-82e3-4871-e700-22174b75c9d7",
        "colab": {
          "base_uri": "https://localhost:8080/"
        }
      },
      "execution_count": 8,
      "outputs": [
        {
          "output_type": "execute_result",
          "data": {
            "text/plain": [
              "array(['5', '0', '4', ..., '4', '5', '6'], dtype=object)"
            ]
          },
          "metadata": {},
          "execution_count": 8
        }
      ]
    },
    {
      "cell_type": "code",
      "source": [
        "y.shape"
      ],
      "metadata": {
        "id": "KOzN1VOAjDve",
        "outputId": "77aa73d2-e464-4bc7-8efe-5786f80fe64b",
        "colab": {
          "base_uri": "https://localhost:8080/"
        }
      },
      "execution_count": 9,
      "outputs": [
        {
          "output_type": "execute_result",
          "data": {
            "text/plain": [
              "(70000,)"
            ]
          },
          "metadata": {},
          "execution_count": 9
        }
      ]
    },
    {
      "cell_type": "code",
      "source": [],
      "metadata": {
        "id": "MWIV1z9xjGhl"
      },
      "execution_count": null,
      "outputs": []
    }
  ]
}